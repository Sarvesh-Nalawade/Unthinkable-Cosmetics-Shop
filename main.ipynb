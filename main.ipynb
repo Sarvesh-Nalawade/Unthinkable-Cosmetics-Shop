{
 "cells": [
  {
   "cell_type": "markdown",
   "id": "e2fcbd97",
   "metadata": {},
   "source": [
    "# One time:"
   ]
  },
  {
   "cell_type": "code",
   "execution_count": 2,
   "id": "b13938f0",
   "metadata": {},
   "outputs": [],
   "source": [
    "import pandas as pd\n",
    "from langchain_community.embeddings import HuggingFaceEmbeddings\n",
    "from langchain_community.vectorstores import FAISS"
   ]
  },
  {
   "cell_type": "code",
   "execution_count": 3,
   "id": "ad3ca197",
   "metadata": {},
   "outputs": [],
   "source": [
    "# 2) Load CSV\n",
    "csv_path = \"./dataset/Nykaa_Product_Review_Cleaned.csv\"  # place the file in working dir\n",
    "df = pd.read_csv(csv_path)"
   ]
  },
  {
   "cell_type": "code",
   "execution_count": 4,
   "id": "22674017",
   "metadata": {},
   "outputs": [],
   "source": [
    "import re\n",
    "\n",
    "\n",
    "def safe(x):\n",
    "    return \"\" if pd.isna(x) else str(x)\n",
    "\n",
    "\n",
    "def safe_int(x):\n",
    "    if pd.isna(x):\n",
    "        return 0\n",
    "    s = str(x).strip()\n",
    "    # Check if it's a valid integer or float\n",
    "    if re.fullmatch(r\"[+-]?\\d+(\\.\\d+)?\", s):\n",
    "        return int(float(s))\n",
    "    return 0  # fallback for invalid strings\n",
    "\n",
    "\n",
    "# Build texts\n",
    "texts = (\n",
    "    df[\"Product Name\"].map(safe) + \" | \" +\n",
    "    df[\"Product Category\"].map(safe) + \" | \" +\n",
    "    df[\"Product Brand\"].map(safe) + \" | \" +\n",
    "    df[\"Product Tags\"].map(safe) + \" | \" +\n",
    "    df[\"Product Contents\"].map(safe) + \" | \" +\n",
    "    df[\"Product Description\"].map(safe)\n",
    ").tolist()\n",
    "\n",
    "# Build metadatas (FIXED)\n",
    "metadatas = [\n",
    "    {\n",
    "        \"product_id\": safe(r[\"Product Id\"]),\n",
    "        \"brand_code\": safe(r[\"Product Brand Code\"]),\n",
    "        \"retailer\": safe(r[\"Retailer\"]),\n",
    "        \"category\": safe(r[\"Product Category\"]),\n",
    "        \"brand\": safe(r[\"Product Brand\"]),\n",
    "        \"name\": safe(r[\"Product Name\"]),\n",
    "        \"price\": float(r[\"Product Price\"]) if pd.notna(r[\"Product Price\"]) else 0.0,\n",
    "        \"url\": safe(r[\"Product Url\"]),\n",
    "        \"market\": safe(r[\"Market\"]),\n",
    "        \"currency\": safe(r[\"Product Currency\"]),\n",
    "        \"image_url\": safe(r[\"Product Image Url\"]),\n",
    "        \"tags\": safe(r[\"Product Tags\"]),\n",
    "        \"contents\": safe(r[\"Product Contents\"]),\n",
    "        \"rating\": float(r[\"Product Rating\"]) if pd.notna(r[\"Product Rating\"]) else 0.0,\n",
    "        \"reviews_count\": safe_int(r[\"Product Reviews Count\"]),\n",
    "        \"exp_cat_count\": safe_int(r[\"Expected Category Count\"]),\n",
    "        \"exp_brand_count\": safe_int(r[\"Expected Brand Count\"]),\n",
    "\n",
    "    }\n",
    "    for _, r in df.iterrows()\n",
    "]"
   ]
  },
  {
   "cell_type": "code",
   "execution_count": 5,
   "id": "6c62de32",
   "metadata": {},
   "outputs": [],
   "source": [
    "# metadatas"
   ]
  },
  {
   "cell_type": "code",
   "execution_count": 6,
   "id": "06054ca8",
   "metadata": {},
   "outputs": [],
   "source": [
    "# texts\n"
   ]
  },
  {
   "cell_type": "code",
   "execution_count": 7,
   "id": "7b9d2039",
   "metadata": {},
   "outputs": [
    {
     "name": "stderr",
     "output_type": "stream",
     "text": [
      "/var/folders/q6/3j_c7vqx3rsbx645zcp42qqw0000gn/T/ipykernel_47807/3156104087.py:3: LangChainDeprecationWarning: The class `HuggingFaceEmbeddings` was deprecated in LangChain 0.2.2 and will be removed in 1.0. An updated version of the class exists in the :class:`~langchain-huggingface package and should be used instead. To use it run `pip install -U :class:`~langchain-huggingface` and import as `from :class:`~langchain_huggingface import HuggingFaceEmbeddings``.\n",
      "  embeddings = HuggingFaceEmbeddings(model_name=MODEL_NAME)\n",
      "/Users/sarvesh/miniconda3/envs/ecom-env/lib/python3.12/site-packages/tqdm/auto.py:21: TqdmWarning: IProgress not found. Please update jupyter and ipywidgets. See https://ipywidgets.readthedocs.io/en/stable/user_install.html\n",
      "  from .autonotebook import tqdm as notebook_tqdm\n"
     ]
    }
   ],
   "source": [
    "# 4) Embeddings (Sentence-Transformers via HuggingFace)\n",
    "MODEL_NAME = \"sentence-transformers/all-MiniLM-L6-v2\"\n",
    "embeddings = HuggingFaceEmbeddings(model_name=MODEL_NAME)"
   ]
  },
  {
   "cell_type": "code",
   "execution_count": 8,
   "id": "9a7abe50",
   "metadata": {},
   "outputs": [],
   "source": [
    "# 5) Create FAISS vector store and persist\n",
    "faiss_store = FAISS.from_texts(texts=texts, embedding=embeddings, metadatas=metadatas)\n",
    "INDEX_DIR = \"faiss_index\"\n",
    "faiss_store.save_local(INDEX_DIR)"
   ]
  },
  {
   "cell_type": "code",
   "execution_count": 9,
   "id": "593a2bec",
   "metadata": {},
   "outputs": [],
   "source": [
    "# from langchain.schema import Document\n",
    "# faiss_store.add_documents([Document(\"timepass\")], embedding=embeddings)"
   ]
  },
  {
   "cell_type": "code",
   "execution_count": 10,
   "id": "6a2bde2d",
   "metadata": {},
   "outputs": [
    {
     "data": {
      "text/plain": [
       "[Document(id='c66a7da1-dfb6-4f7e-aaf8-d9eb8d7faedd', metadata={'product_id': 'c157e14d2f2c994b106d670227ab2739', 'brand_code': 'BZ1000', 'retailer': 'nykaa.com', 'category': 'Makeup > Lips > Lipstick', 'brand': 'Kay Beauty', 'name': 'Kay Beauty Matte Lipstick - Award Night', 'price': 999.0, 'url': 'https://www.nykaa.com/c/p/1010793?skuId=772943', 'market': 'IN', 'currency': 'INR', 'image_url': 'https://images-static.nykaa.com/media/catalog/product/tr:h-800,w-800,cm-pad_resize/a/w/award-night_2.jpg|https://images-static.nykaa.com/media/catalog/product/tr:h-800,w-800,cm-pad_resize/2/_/2_light_18.jpg|https://images-static.nykaa.com/media/catalog/product/tr:h-800,w-800,cm-pad_resize/3/_/3_medium_18.jpg|https://images-static.nykaa.com/media/catalog/product/tr:h-800,w-800,cm-pad_resize/4/_/4_shade-card_15.jpg|https://images-static.nykaa.com/media/catalog/product/tr:h-800,w-800,cm-pad_resize/o/n/on-screen_4.jpg|https://images-static.nykaa.com/media/catalog/product/tr:h-800,w-800,cm-pad_resize/a/w/award-night_1.jpg|https://images-static.nykaa.com/media/catalog/product/tr:h-800,w-800,cm-pad_resize/7/_/7_all_looks_15.jpg|https://images-static.nykaa.com/media/catalog/product/tr:h-800,w-800,cm-pad_resize/8/_/8_claims_14.jpg|https://images-static.nykaa.com/media/catalog/product/tr:h-800,w-800,cm-pad_resize/a/w/award-night.jpg|https://www.youtube.com/watch?v=AoacBjco4gA', 'tags': 'Kay Beauty Matte Lipstick - Award Night', 'contents': '', 'rating': 4.7, 'reviews_count': 41, 'exp_cat_count': 828, 'exp_brand_count': 0}, page_content=\"Kay Beauty Matte Lipstick - Award Night | Makeup > Lips > Lipstick | Kay Beauty | Kay Beauty Matte Lipstick - Award Night |  | Every girl needs a trusty matte lipstick. One that doesn't smudge, budge or nudge from her lips. The Kay Beauty Matte Drama Lipstick is here to give you luxurious matte lips and unleash the power of long stay. Its velvety luxe texture is what makes it the most coveted of all matte lipsticks, and spells pure opulence. Just one stroke is all it takes to cover your lips with high impact colour. The iconic weightless formula feels feathery light on the lips and is comfortable for all day wear. Our care ingredients containing grapeseed oil and red raspberry ensure that the formula moisturizes your lips while protecting it from sun damage or any blue light. You can take your pick from 18 shades ranging from pinks and nudes to mauves and plums, that will flatter all Indian skin tones. Itâ€™s time to pucker up!Why Make It YoursInfinitely MatteIconic Weightless FormulaLong StayOne Stroke ApplicationLuxurious TextureNon-Drying Complete your look Explore the entire range of Lipstick available on Nykaa. Shop more Kay Beauty products here.You can browse through the complete world of Kay Beauty Lipstick .Alternatively, you can also find many more products from the Kay Beauty Matte Lipstick range.MRP: 999 Expiry Date: 15 September 2023Country of Origin: IndiaName of Mfg / Importer / Brand: Nykaa - KK Beauty Pvt LtdAddress of Mfg / Importer / Brand: Mumbai\"),\n",
       " Document(id='8abb5424-7e3c-4e98-b535-fcbb8ddf0bed', metadata={'product_id': 'ce8e085f6e6a0f4153861f8928e204a4', 'brand_code': 'BZ1000', 'retailer': 'nykaa.com', 'category': 'Makeup > Lips > Lipstick', 'brand': 'Jaquline USA', 'name': 'Jaquline USA Matte Stick Velvet Matte Lipstick - Boss Girl', 'price': 325.0, 'url': 'https://www.nykaa.com/c/p/417352?skuId=417349', 'market': 'IN', 'currency': 'INR', 'image_url': 'https://images-static.nykaa.com/media/catalog/product/tr:h-800,w-800,cm-pad_resize/8/9/8903196000484_1.jpg|https://images-static.nykaa.com/media/catalog/product/tr:h-800,w-800,cm-pad_resize/8/9/8903196000484_2.jpg|https://images-static.nykaa.com/media/catalog/product/tr:h-800,w-800,cm-pad_resize/8/9/8903196000484_3.jpg', 'tags': 'Jaquline USA Matte Stick Velvet Matte Lipstick - Boss Girl, Makeup, Lips, Lipstick', 'contents': '', 'rating': 4.0, 'reviews_count': 16, 'exp_cat_count': 828, 'exp_brand_count': 18}, page_content=\"Jaquline USA Matte Stick Velvet Matte Lipstick - Boss Girl | Makeup > Lips > Lipstick | Jaquline USA | Jaquline USA Matte Stick Velvet Matte Lipstick - Boss Girl, Makeup, Lips, Lipstick |  | Jaquline USA Velvet Matte Lipstick glides on effortlessly to deliver pigment rich colour that sets to a soft matte finish. Featuring a non-drying formula, this lip colour ensures a comfortable feel throughout the wear time. Enriched with vitamin E, it keeps the lips soft and supple. Long wearing and intensely pigmented, it is sure to be your next go to lipstick. Features: Richly pigmented and long-lasting velvet matte lipstickHas vitamin E that moisturises and keeps the lips softProvides excellent colour pay off in one strokeGlides on effortlessly and stays put for hoursAvailable in 10 beautiful shades to pick fromAbout the Brand: Dabur India's beauty retail venture NewU introduces a beauty brand Jaquline USA in India catering to modern Indian women. Known for its trendy range of cosmetics, the brand aims at bringing a colour revolution in people's lives introducing unique, high-performance makeup, nail care and styling products at affordable prices.Explore the entire range of Lipstick available on Nykaa. Shop more Jaquline USA products here.You can browse through the complete world of Jaquline USA Lipstick .Alternatively, you can also find many more products from the Jaquline USA Matte Stick Velvet Matte Lipstick range.MRP: 325 Country of Origin: IndiaName of Mfg / Importer / Brand: Maxima SolutionsAddress of Mfg / Importer / Brand: Maxima Solutions TTC Industrial Area,MIDC, Off Add:-W-32A, 400701 Mumbai\"),\n",
       " Document(id='c89332c6-782d-48b9-bf29-b44007ddebf4', metadata={'product_id': '91b6095937645fb33cc1da6ed38f1b3a', 'brand_code': 'BZ1000', 'retailer': 'nykaa.com', 'category': 'Makeup > Lips > Lipstick', 'brand': 'Kay Beauty', 'name': 'Kay Beauty Matte Lipstick - On Screen', 'price': 999.0, 'url': 'https://www.nykaa.com/c/p/1010793?skuId=772932', 'market': 'IN', 'currency': 'INR', 'image_url': 'https://images-static.nykaa.com/media/catalog/product/tr:h-800,w-800,cm-pad_resize/o/n/on-screen_3.jpg|https://images-static.nykaa.com/media/catalog/product/tr:h-800,w-800,cm-pad_resize/2/_/2_420_28.jpg|https://images-static.nykaa.com/media/catalog/product/tr:h-800,w-800,cm-pad_resize/3/_/3_407_65.jpg|https://images-static.nykaa.com/media/catalog/product/tr:h-800,w-800,cm-pad_resize/4/_/4_shade-card_11.jpg|https://images-static.nykaa.com/media/catalog/product/tr:h-800,w-800,cm-pad_resize/o/n/on-screen_2.jpg|https://images-static.nykaa.com/media/catalog/product/tr:h-800,w-800,cm-pad_resize/o/n/on-screen_1_2.jpg|https://images-static.nykaa.com/media/catalog/product/tr:h-800,w-800,cm-pad_resize/7/_/7_all_looks_11.jpg|https://images-static.nykaa.com/media/catalog/product/tr:h-800,w-800,cm-pad_resize/8/_/8_claims_10.jpg|https://images-static.nykaa.com/media/catalog/product/tr:h-800,w-800,cm-pad_resize/o/n/on-screen.jpg|https://www.youtube.com/watch?v=AoacBjco4gA', 'tags': 'Kay Beauty Matte Lipstick - On Screen, Makeup, Lips, Lipstick', 'contents': '', 'rating': 4.6, 'reviews_count': 31, 'exp_cat_count': 0, 'exp_brand_count': 0}, page_content=\"Kay Beauty Matte Lipstick - On Screen | Makeup > Lips > Lipstick | Kay Beauty | Kay Beauty Matte Lipstick - On Screen, Makeup, Lips, Lipstick |  | Every girl needs a trusty matte lipstick. One that doesn't smudge, budge or nudge from her lips. The Kay Beauty Matte Drama Lipstick is here to give you luxurious matte lips and unleash the power of long stay. Its velvety luxe texture is what makes it the most coveted of all matte lipsticks, and spells pure opulence. Just one stroke is all it takes to cover your lips with high impact colour. The iconic weightless formula feels feathery light on the lips and is comfortable for all day wear. Our care ingredients containing grapeseed oil and red raspberry ensure that the formula moisturizes your lips while protecting it from sun damage or any blue light. You can take your pick from 18 shades ranging from pinks and nudes to mauves and plums, that will flatter all Indian skin tones. Itâ€™s time to pucker up!Why Make It YoursInfinitely MatteIconic Weightless FormulaLong StayOne Stroke ApplicationLuxurious TextureNon-Drying Complete your look Explore the entire range of Lipstick available on Nykaa. Shop more Kay Beauty products here.You can browse through the complete world of Kay Beauty Lipstick .Alternatively, you can also find many more products from the Kay Beauty Matte Lipstick range.MRP: 999 Expiry Date: 15 September 2023Country of Origin: IndiaName of Mfg / Importer / Brand: Nykaa - KK Beauty Pvt LtdAddress of Mfg / Importer / Brand: Mumbai\"),\n",
       " Document(id='66973796-fce6-4e12-b388-7ece5972c02c', metadata={'product_id': 'bb6f24059ebc1a764a00815b75deb271', 'brand_code': 'BH6480', 'retailer': 'nykaa.com', 'category': 'Makeup > Lips > Lipstick', 'brand': 'Dermacol', 'name': 'Dermacol Iconic Lips 2-In-1 Lipstick & Lipliner - 1', 'price': 2149.0, 'url': 'https://www.nykaa.com/c/p/572845?skuId=572839', 'market': 'IN', 'currency': 'INR', 'image_url': 'https://images-static.nykaa.com/media/catalog/product/tr:h-800,w-800,cm-pad_resize/5/3/534704385966413.jpg', 'tags': 'Dermacol Iconic Lips 2-In-1 Lipstick & Lipliner - 1, Makeup, Lips, Lipstick', 'contents': '', 'rating': 5.0, 'reviews_count': 1, 'exp_cat_count': 828, 'exp_brand_count': 26}, page_content='Dermacol Iconic Lips 2-In-1 Lipstick & Lipliner - 1 | Makeup > Lips > Lipstick | Dermacol | Dermacol Iconic Lips 2-In-1 Lipstick & Lipliner - 1, Makeup, Lips, Lipstick |  | Iconic Lips 2-in-1 Precise Contouring Lipstick and Lipliner is a color-coordinated liner and lipstick for frustration-free make-up.This new collection of 6 rich high-coverage shades presented in a wooden jumbo pencil perfectly evens and optically enlarges your lips with precisely drawn contours. Thanks to the formula containing vitamin E, panthenol and shea butter, your lips will stay hydrated without an unpleasant, dry feeling. Natural waxes and oils guarantee a precise and very easy application.The pencil is 2-in-1, so you do not need any other products.1st step Liner: The ultra-rich color perfectly defines the lips while preventing the lipstick from feathering. Light diffusing pigments optically minimize fine lines. Intense color pay off in one stroke.2nd step Lipstick: Single stroke lipstick in deep satin color. Shea butter and vitamin E help lips stay soft and hydrated.Benefits:2-in-1 lipstick and lipliner in perfectly matching shadesProvides beautifully accentuated, full and moisturized lips without any dry sensationContains vitamin E, panthenol and shea butter to keep your lips moisturizedHas natural waxes and oils for easy applicationAbout the Brand: The original Czech brand Dermacol has been cherishing female beauty for over half a century. One of the first covering foundations in the world was developed in Dermacolâ€™s Czech laboratory. It began being used by Hollywood in the 1960s, and ever since, Dermacol has been synonymous with perfect skin make-up, not only in the Czech Republic, but all over the world. Dermacol provides perfect care for all skin types and can handle all of your skin problems, whether your skin is young, mature, normal, dry or problematic. All their products are dermatologically tested and most of skin and body care products are hypoallergenic. Explore the entire range of Lipstick available on Nykaa. Shop more Dermacol products here.You can browse through the complete world of Dermacol Lipstick .Alternatively, you can also find many more products from the Dermacol Iconic Lips 2-In-1 Lipstick & Lipliner range.MRP: 2149 Country of Origin: CzechiaName of Mfg / Importer / Brand: DC DermacolAddress of Mfg / Importer / Brand: Shivaji park,West Punjabi Bagh,New delhi'),\n",
       " Document(id='eb5c5749-3887-45a4-85e9-d4fd67bd37d9', metadata={'product_id': '30e44a225f4e6dd2f06749326bc990ff', 'brand_code': 'BZ1000', 'retailer': 'nykaa.com', 'category': 'Makeup > Lips > Lip Liner', 'brand': 'Charlotte Tilbury', 'name': 'Charlotte Tilbury Lip Cheat - Hot Gossip', 'price': 2200.0, 'url': 'https://www.nykaa.com/c/p/985209?skuId=959731', 'market': 'IN', 'currency': 'INR', 'image_url': 'https://images-static.nykaa.com/media/catalog/product/tr:h-800,w-800,cm-pad_resize/b/f/bfd3bd75060542720175.jpg|https://images-static.nykaa.com/media/catalog/product/tr:h-800,w-800,cm-pad_resize/b/f/bfd3bd75060542720175_2.jpg|https://images-static.nykaa.com/media/catalog/product/tr:h-800,w-800,cm-pad_resize/5/0/5060542720175.jpeg|https://images-static.nykaa.com/media/catalog/product/tr:h-800,w-800,cm-pad_resize/b/f/bfd3bd75060542720175_3.jpg|https://images-static.nykaa.com/media/catalog/product/tr:h-800,w-800,cm-pad_resize/a/u/authenticity-certificate-ct---nykaa_161.jpg', 'tags': 'Charlotte Tilbury Lip Cheat - Hot Gossip,Make Up , Lips , Lip Liner', 'contents': 'Cyclopentasiloxane, Synthetic Wax, Mica, Isododecane, Polybutene, Hydrogenated Cottonseed Oil, Ceresin, Ozokerite, Microcrystalline Wax/cera Microcristallina/cire Microcristalline, Simmondsia Chinensis (Jojoba) Seed Oil, Tocopherol, Ascorbyl Palmitate, [+/- Titanium Dioxide (Ci 77891), Iron Oxides (Ci 77491, Ci 77492, Ci 77499), Red 7 Lake (Ci 15850)].', 'rating': 3.9, 'reviews_count': 5, 'exp_cat_count': 179, 'exp_brand_count': 0}, page_content='Charlotte Tilbury Lip Cheat - Hot Gossip | Makeup > Lips > Lip Liner | Charlotte Tilbury | Charlotte Tilbury Lip Cheat - Hot Gossip,Make Up , Lips , Lip Liner | Cyclopentasiloxane, Synthetic Wax, Mica, Isododecane, Polybutene, Hydrogenated Cottonseed Oil, Ceresin, Ozokerite, Microcrystalline Wax/cera Microcristallina/cire Microcristalline, Simmondsia Chinensis (Jojoba) Seed Oil, Tocopherol, Ascorbyl Palmitate, [+/- Titanium Dioxide (Ci 77891), Iron Oxides (Ci 77491, Ci 77492, Ci 77499), Red 7 Lake (Ci 15850)]. | Lip liner is the backstage secret weapon! Lip Cheat Lip Liner has everything you need for a fuller-looking, re-defined pout, perfecting the look of your lips before going bold with your lipstick.What makes it magic?- Perfect the look of your lip shape!- Smooths over texture for a seamless line, so you can resize and reshape the appearance of your lips for a fuller-looking pout- Lasts up to 6 hours with no smudging*- Waterproof formula- Transfer resistant formula- Ideal for perfectly defined, color-rich lips- This product is vegan friendly*Tested on 20 womenAlternatively, you can also find many more products from the Charlotte Tilbury Lip Cheat range.MRP: 2200 Country of Origin: GermanyName of Mfg / Importer / Brand: Charlotte TilburyAddress of Mfg / Importer / Brand: 8 Surrey Street, London, WC2R 2ND, United Kingdom.')]"
      ]
     },
     "execution_count": 10,
     "metadata": {},
     "output_type": "execute_result"
    }
   ],
   "source": [
    "resp = faiss_store.similarity_search(\"lipstick\", k=5)\n",
    "resp"
   ]
  },
  {
   "cell_type": "code",
   "execution_count": 11,
   "id": "27d98d88",
   "metadata": {},
   "outputs": [],
   "source": [
    "import json\n",
    "useful = []\n",
    "\n",
    "for prod in resp:\n",
    "    prod_data = prod.metadata\n",
    "    useful.append(prod_data)\n",
    "    \n",
    "with open(\"temp_faiss.json\", \"w\") as f:\n",
    "    json.dump(useful, f, indent=4)\n"
   ]
  },
  {
   "cell_type": "code",
   "execution_count": null,
   "id": "618e0802",
   "metadata": {},
   "outputs": [],
   "source": []
  },
  {
   "cell_type": "code",
   "execution_count": null,
   "id": "9e1110d2",
   "metadata": {},
   "outputs": [],
   "source": []
  },
  {
   "cell_type": "markdown",
   "id": "3f8edcdb",
   "metadata": {},
   "source": [
    "# Run Time"
   ]
  },
  {
   "cell_type": "code",
   "execution_count": 12,
   "id": "9e145ee5",
   "metadata": {},
   "outputs": [],
   "source": [
    "# 6) Reload FAISS later (new session / new cell)\n",
    "from langchain_community.embeddings import HuggingFaceEmbeddings\n",
    "from langchain_community.vectorstores import FAISS\n",
    "\n"
   ]
  },
  {
   "cell_type": "code",
   "execution_count": 13,
   "id": "0ca2e366",
   "metadata": {},
   "outputs": [],
   "source": [
    "embeddings = HuggingFaceEmbeddings(model_name=MODEL_NAME)\n",
    "faiss_loaded = FAISS.load_local(INDEX_DIR, embeddings, allow_dangerous_deserialization=True)"
   ]
  },
  {
   "cell_type": "code",
   "execution_count": 14,
   "id": "052a32a8",
   "metadata": {},
   "outputs": [],
   "source": [
    "# 7) Example similarity search with optional category filter\n",
    "query = \"lipstick\"\n",
    "candidates = faiss_loaded.similarity_search_with_score(query, k=5)"
   ]
  },
  {
   "cell_type": "code",
   "execution_count": 15,
   "id": "6e298cc8",
   "metadata": {},
   "outputs": [
    {
     "data": {
      "text/plain": [
       "[(Document(id='c66a7da1-dfb6-4f7e-aaf8-d9eb8d7faedd', metadata={'product_id': 'c157e14d2f2c994b106d670227ab2739', 'brand_code': 'BZ1000', 'retailer': 'nykaa.com', 'category': 'Makeup > Lips > Lipstick', 'brand': 'Kay Beauty', 'name': 'Kay Beauty Matte Lipstick - Award Night', 'price': 999.0, 'url': 'https://www.nykaa.com/c/p/1010793?skuId=772943', 'market': 'IN', 'currency': 'INR', 'image_url': 'https://images-static.nykaa.com/media/catalog/product/tr:h-800,w-800,cm-pad_resize/a/w/award-night_2.jpg|https://images-static.nykaa.com/media/catalog/product/tr:h-800,w-800,cm-pad_resize/2/_/2_light_18.jpg|https://images-static.nykaa.com/media/catalog/product/tr:h-800,w-800,cm-pad_resize/3/_/3_medium_18.jpg|https://images-static.nykaa.com/media/catalog/product/tr:h-800,w-800,cm-pad_resize/4/_/4_shade-card_15.jpg|https://images-static.nykaa.com/media/catalog/product/tr:h-800,w-800,cm-pad_resize/o/n/on-screen_4.jpg|https://images-static.nykaa.com/media/catalog/product/tr:h-800,w-800,cm-pad_resize/a/w/award-night_1.jpg|https://images-static.nykaa.com/media/catalog/product/tr:h-800,w-800,cm-pad_resize/7/_/7_all_looks_15.jpg|https://images-static.nykaa.com/media/catalog/product/tr:h-800,w-800,cm-pad_resize/8/_/8_claims_14.jpg|https://images-static.nykaa.com/media/catalog/product/tr:h-800,w-800,cm-pad_resize/a/w/award-night.jpg|https://www.youtube.com/watch?v=AoacBjco4gA', 'tags': 'Kay Beauty Matte Lipstick - Award Night', 'contents': '', 'rating': 4.7, 'reviews_count': 41, 'exp_cat_count': 828, 'exp_brand_count': 0}, page_content=\"Kay Beauty Matte Lipstick - Award Night | Makeup > Lips > Lipstick | Kay Beauty | Kay Beauty Matte Lipstick - Award Night |  | Every girl needs a trusty matte lipstick. One that doesn't smudge, budge or nudge from her lips. The Kay Beauty Matte Drama Lipstick is here to give you luxurious matte lips and unleash the power of long stay. Its velvety luxe texture is what makes it the most coveted of all matte lipsticks, and spells pure opulence. Just one stroke is all it takes to cover your lips with high impact colour. The iconic weightless formula feels feathery light on the lips and is comfortable for all day wear. Our care ingredients containing grapeseed oil and red raspberry ensure that the formula moisturizes your lips while protecting it from sun damage or any blue light. You can take your pick from 18 shades ranging from pinks and nudes to mauves and plums, that will flatter all Indian skin tones. Itâ€™s time to pucker up!Why Make It YoursInfinitely MatteIconic Weightless FormulaLong StayOne Stroke ApplicationLuxurious TextureNon-Drying Complete your look Explore the entire range of Lipstick available on Nykaa. Shop more Kay Beauty products here.You can browse through the complete world of Kay Beauty Lipstick .Alternatively, you can also find many more products from the Kay Beauty Matte Lipstick range.MRP: 999 Expiry Date: 15 September 2023Country of Origin: IndiaName of Mfg / Importer / Brand: Nykaa - KK Beauty Pvt LtdAddress of Mfg / Importer / Brand: Mumbai\"),\n",
       "  np.float32(0.7151291)),\n",
       " (Document(id='8abb5424-7e3c-4e98-b535-fcbb8ddf0bed', metadata={'product_id': 'ce8e085f6e6a0f4153861f8928e204a4', 'brand_code': 'BZ1000', 'retailer': 'nykaa.com', 'category': 'Makeup > Lips > Lipstick', 'brand': 'Jaquline USA', 'name': 'Jaquline USA Matte Stick Velvet Matte Lipstick - Boss Girl', 'price': 325.0, 'url': 'https://www.nykaa.com/c/p/417352?skuId=417349', 'market': 'IN', 'currency': 'INR', 'image_url': 'https://images-static.nykaa.com/media/catalog/product/tr:h-800,w-800,cm-pad_resize/8/9/8903196000484_1.jpg|https://images-static.nykaa.com/media/catalog/product/tr:h-800,w-800,cm-pad_resize/8/9/8903196000484_2.jpg|https://images-static.nykaa.com/media/catalog/product/tr:h-800,w-800,cm-pad_resize/8/9/8903196000484_3.jpg', 'tags': 'Jaquline USA Matte Stick Velvet Matte Lipstick - Boss Girl, Makeup, Lips, Lipstick', 'contents': '', 'rating': 4.0, 'reviews_count': 16, 'exp_cat_count': 828, 'exp_brand_count': 18}, page_content=\"Jaquline USA Matte Stick Velvet Matte Lipstick - Boss Girl | Makeup > Lips > Lipstick | Jaquline USA | Jaquline USA Matte Stick Velvet Matte Lipstick - Boss Girl, Makeup, Lips, Lipstick |  | Jaquline USA Velvet Matte Lipstick glides on effortlessly to deliver pigment rich colour that sets to a soft matte finish. Featuring a non-drying formula, this lip colour ensures a comfortable feel throughout the wear time. Enriched with vitamin E, it keeps the lips soft and supple. Long wearing and intensely pigmented, it is sure to be your next go to lipstick. Features: Richly pigmented and long-lasting velvet matte lipstickHas vitamin E that moisturises and keeps the lips softProvides excellent colour pay off in one strokeGlides on effortlessly and stays put for hoursAvailable in 10 beautiful shades to pick fromAbout the Brand: Dabur India's beauty retail venture NewU introduces a beauty brand Jaquline USA in India catering to modern Indian women. Known for its trendy range of cosmetics, the brand aims at bringing a colour revolution in people's lives introducing unique, high-performance makeup, nail care and styling products at affordable prices.Explore the entire range of Lipstick available on Nykaa. Shop more Jaquline USA products here.You can browse through the complete world of Jaquline USA Lipstick .Alternatively, you can also find many more products from the Jaquline USA Matte Stick Velvet Matte Lipstick range.MRP: 325 Country of Origin: IndiaName of Mfg / Importer / Brand: Maxima SolutionsAddress of Mfg / Importer / Brand: Maxima Solutions TTC Industrial Area,MIDC, Off Add:-W-32A, 400701 Mumbai\"),\n",
       "  np.float32(0.7269218)),\n",
       " (Document(id='c89332c6-782d-48b9-bf29-b44007ddebf4', metadata={'product_id': '91b6095937645fb33cc1da6ed38f1b3a', 'brand_code': 'BZ1000', 'retailer': 'nykaa.com', 'category': 'Makeup > Lips > Lipstick', 'brand': 'Kay Beauty', 'name': 'Kay Beauty Matte Lipstick - On Screen', 'price': 999.0, 'url': 'https://www.nykaa.com/c/p/1010793?skuId=772932', 'market': 'IN', 'currency': 'INR', 'image_url': 'https://images-static.nykaa.com/media/catalog/product/tr:h-800,w-800,cm-pad_resize/o/n/on-screen_3.jpg|https://images-static.nykaa.com/media/catalog/product/tr:h-800,w-800,cm-pad_resize/2/_/2_420_28.jpg|https://images-static.nykaa.com/media/catalog/product/tr:h-800,w-800,cm-pad_resize/3/_/3_407_65.jpg|https://images-static.nykaa.com/media/catalog/product/tr:h-800,w-800,cm-pad_resize/4/_/4_shade-card_11.jpg|https://images-static.nykaa.com/media/catalog/product/tr:h-800,w-800,cm-pad_resize/o/n/on-screen_2.jpg|https://images-static.nykaa.com/media/catalog/product/tr:h-800,w-800,cm-pad_resize/o/n/on-screen_1_2.jpg|https://images-static.nykaa.com/media/catalog/product/tr:h-800,w-800,cm-pad_resize/7/_/7_all_looks_11.jpg|https://images-static.nykaa.com/media/catalog/product/tr:h-800,w-800,cm-pad_resize/8/_/8_claims_10.jpg|https://images-static.nykaa.com/media/catalog/product/tr:h-800,w-800,cm-pad_resize/o/n/on-screen.jpg|https://www.youtube.com/watch?v=AoacBjco4gA', 'tags': 'Kay Beauty Matte Lipstick - On Screen, Makeup, Lips, Lipstick', 'contents': '', 'rating': 4.6, 'reviews_count': 31, 'exp_cat_count': 0, 'exp_brand_count': 0}, page_content=\"Kay Beauty Matte Lipstick - On Screen | Makeup > Lips > Lipstick | Kay Beauty | Kay Beauty Matte Lipstick - On Screen, Makeup, Lips, Lipstick |  | Every girl needs a trusty matte lipstick. One that doesn't smudge, budge or nudge from her lips. The Kay Beauty Matte Drama Lipstick is here to give you luxurious matte lips and unleash the power of long stay. Its velvety luxe texture is what makes it the most coveted of all matte lipsticks, and spells pure opulence. Just one stroke is all it takes to cover your lips with high impact colour. The iconic weightless formula feels feathery light on the lips and is comfortable for all day wear. Our care ingredients containing grapeseed oil and red raspberry ensure that the formula moisturizes your lips while protecting it from sun damage or any blue light. You can take your pick from 18 shades ranging from pinks and nudes to mauves and plums, that will flatter all Indian skin tones. Itâ€™s time to pucker up!Why Make It YoursInfinitely MatteIconic Weightless FormulaLong StayOne Stroke ApplicationLuxurious TextureNon-Drying Complete your look Explore the entire range of Lipstick available on Nykaa. Shop more Kay Beauty products here.You can browse through the complete world of Kay Beauty Lipstick .Alternatively, you can also find many more products from the Kay Beauty Matte Lipstick range.MRP: 999 Expiry Date: 15 September 2023Country of Origin: IndiaName of Mfg / Importer / Brand: Nykaa - KK Beauty Pvt LtdAddress of Mfg / Importer / Brand: Mumbai\"),\n",
       "  np.float32(0.73444396)),\n",
       " (Document(id='66973796-fce6-4e12-b388-7ece5972c02c', metadata={'product_id': 'bb6f24059ebc1a764a00815b75deb271', 'brand_code': 'BH6480', 'retailer': 'nykaa.com', 'category': 'Makeup > Lips > Lipstick', 'brand': 'Dermacol', 'name': 'Dermacol Iconic Lips 2-In-1 Lipstick & Lipliner - 1', 'price': 2149.0, 'url': 'https://www.nykaa.com/c/p/572845?skuId=572839', 'market': 'IN', 'currency': 'INR', 'image_url': 'https://images-static.nykaa.com/media/catalog/product/tr:h-800,w-800,cm-pad_resize/5/3/534704385966413.jpg', 'tags': 'Dermacol Iconic Lips 2-In-1 Lipstick & Lipliner - 1, Makeup, Lips, Lipstick', 'contents': '', 'rating': 5.0, 'reviews_count': 1, 'exp_cat_count': 828, 'exp_brand_count': 26}, page_content='Dermacol Iconic Lips 2-In-1 Lipstick & Lipliner - 1 | Makeup > Lips > Lipstick | Dermacol | Dermacol Iconic Lips 2-In-1 Lipstick & Lipliner - 1, Makeup, Lips, Lipstick |  | Iconic Lips 2-in-1 Precise Contouring Lipstick and Lipliner is a color-coordinated liner and lipstick for frustration-free make-up.This new collection of 6 rich high-coverage shades presented in a wooden jumbo pencil perfectly evens and optically enlarges your lips with precisely drawn contours. Thanks to the formula containing vitamin E, panthenol and shea butter, your lips will stay hydrated without an unpleasant, dry feeling. Natural waxes and oils guarantee a precise and very easy application.The pencil is 2-in-1, so you do not need any other products.1st step Liner: The ultra-rich color perfectly defines the lips while preventing the lipstick from feathering. Light diffusing pigments optically minimize fine lines. Intense color pay off in one stroke.2nd step Lipstick: Single stroke lipstick in deep satin color. Shea butter and vitamin E help lips stay soft and hydrated.Benefits:2-in-1 lipstick and lipliner in perfectly matching shadesProvides beautifully accentuated, full and moisturized lips without any dry sensationContains vitamin E, panthenol and shea butter to keep your lips moisturizedHas natural waxes and oils for easy applicationAbout the Brand: The original Czech brand Dermacol has been cherishing female beauty for over half a century. One of the first covering foundations in the world was developed in Dermacolâ€™s Czech laboratory. It began being used by Hollywood in the 1960s, and ever since, Dermacol has been synonymous with perfect skin make-up, not only in the Czech Republic, but all over the world. Dermacol provides perfect care for all skin types and can handle all of your skin problems, whether your skin is young, mature, normal, dry or problematic. All their products are dermatologically tested and most of skin and body care products are hypoallergenic. Explore the entire range of Lipstick available on Nykaa. Shop more Dermacol products here.You can browse through the complete world of Dermacol Lipstick .Alternatively, you can also find many more products from the Dermacol Iconic Lips 2-In-1 Lipstick & Lipliner range.MRP: 2149 Country of Origin: CzechiaName of Mfg / Importer / Brand: DC DermacolAddress of Mfg / Importer / Brand: Shivaji park,West Punjabi Bagh,New delhi'),\n",
       "  np.float32(0.74202996)),\n",
       " (Document(id='eb5c5749-3887-45a4-85e9-d4fd67bd37d9', metadata={'product_id': '30e44a225f4e6dd2f06749326bc990ff', 'brand_code': 'BZ1000', 'retailer': 'nykaa.com', 'category': 'Makeup > Lips > Lip Liner', 'brand': 'Charlotte Tilbury', 'name': 'Charlotte Tilbury Lip Cheat - Hot Gossip', 'price': 2200.0, 'url': 'https://www.nykaa.com/c/p/985209?skuId=959731', 'market': 'IN', 'currency': 'INR', 'image_url': 'https://images-static.nykaa.com/media/catalog/product/tr:h-800,w-800,cm-pad_resize/b/f/bfd3bd75060542720175.jpg|https://images-static.nykaa.com/media/catalog/product/tr:h-800,w-800,cm-pad_resize/b/f/bfd3bd75060542720175_2.jpg|https://images-static.nykaa.com/media/catalog/product/tr:h-800,w-800,cm-pad_resize/5/0/5060542720175.jpeg|https://images-static.nykaa.com/media/catalog/product/tr:h-800,w-800,cm-pad_resize/b/f/bfd3bd75060542720175_3.jpg|https://images-static.nykaa.com/media/catalog/product/tr:h-800,w-800,cm-pad_resize/a/u/authenticity-certificate-ct---nykaa_161.jpg', 'tags': 'Charlotte Tilbury Lip Cheat - Hot Gossip,Make Up , Lips , Lip Liner', 'contents': 'Cyclopentasiloxane, Synthetic Wax, Mica, Isododecane, Polybutene, Hydrogenated Cottonseed Oil, Ceresin, Ozokerite, Microcrystalline Wax/cera Microcristallina/cire Microcristalline, Simmondsia Chinensis (Jojoba) Seed Oil, Tocopherol, Ascorbyl Palmitate, [+/- Titanium Dioxide (Ci 77891), Iron Oxides (Ci 77491, Ci 77492, Ci 77499), Red 7 Lake (Ci 15850)].', 'rating': 3.9, 'reviews_count': 5, 'exp_cat_count': 179, 'exp_brand_count': 0}, page_content='Charlotte Tilbury Lip Cheat - Hot Gossip | Makeup > Lips > Lip Liner | Charlotte Tilbury | Charlotte Tilbury Lip Cheat - Hot Gossip,Make Up , Lips , Lip Liner | Cyclopentasiloxane, Synthetic Wax, Mica, Isododecane, Polybutene, Hydrogenated Cottonseed Oil, Ceresin, Ozokerite, Microcrystalline Wax/cera Microcristallina/cire Microcristalline, Simmondsia Chinensis (Jojoba) Seed Oil, Tocopherol, Ascorbyl Palmitate, [+/- Titanium Dioxide (Ci 77891), Iron Oxides (Ci 77491, Ci 77492, Ci 77499), Red 7 Lake (Ci 15850)]. | Lip liner is the backstage secret weapon! Lip Cheat Lip Liner has everything you need for a fuller-looking, re-defined pout, perfecting the look of your lips before going bold with your lipstick.What makes it magic?- Perfect the look of your lip shape!- Smooths over texture for a seamless line, so you can resize and reshape the appearance of your lips for a fuller-looking pout- Lasts up to 6 hours with no smudging*- Waterproof formula- Transfer resistant formula- Ideal for perfectly defined, color-rich lips- This product is vegan friendly*Tested on 20 womenAlternatively, you can also find many more products from the Charlotte Tilbury Lip Cheat range.MRP: 2200 Country of Origin: GermanyName of Mfg / Importer / Brand: Charlotte TilburyAddress of Mfg / Importer / Brand: 8 Surrey Street, London, WC2R 2ND, United Kingdom.'),\n",
       "  np.float32(0.76888466))]"
      ]
     },
     "execution_count": 15,
     "metadata": {},
     "output_type": "execute_result"
    }
   ],
   "source": [
    "candidates"
   ]
  },
  {
   "cell_type": "code",
   "execution_count": 16,
   "id": "7817e143",
   "metadata": {},
   "outputs": [],
   "source": [
    "# filter by category if needed\n",
    "category = \"Makeup\"  # example category\n",
    "filtered = [(doc, score) for doc, score in candidates \n",
    "            if doc.metadata.get(\"category\", \"\").lower() == category.lower()]"
   ]
  },
  {
   "cell_type": "code",
   "execution_count": 17,
   "id": "c2acd6e7",
   "metadata": {},
   "outputs": [],
   "source": [
    "top10 = filtered[:10]\n",
    "for doc, score in top10:\n",
    "    print(doc.metadata[\"product_id\"], doc.metadata[\"name\"], score)"
   ]
  },
  {
   "cell_type": "code",
   "execution_count": 18,
   "id": "26d98079",
   "metadata": {},
   "outputs": [
    {
     "name": "stdout",
     "output_type": "stream",
     "text": [
      "Total candidates retrieved: 5\n",
      "Filtered by category: 0\n",
      "Candidate category: Makeup > Lips > Lipstick\n",
      "Candidate category: Makeup > Lips > Lipstick\n",
      "Candidate category: Makeup > Lips > Lipstick\n",
      "Candidate category: Makeup > Lips > Lipstick\n",
      "Candidate category: Makeup > Lips > Lip Liner\n"
     ]
    }
   ],
   "source": [
    "#debugg\n",
    "print(\"Total candidates retrieved:\", len(candidates))\n",
    "print(\"Filtered by category:\", len(filtered))\n",
    "\n",
    "# Show first few candidate categories to check if 'Makeup' exists\n",
    "for doc, score in candidates[:5]:\n",
    "    print(\"Candidate category:\", doc.metadata.get(\"category\"))\n"
   ]
  },
  {
   "cell_type": "code",
   "execution_count": 19,
   "id": "b2b29a74",
   "metadata": {},
   "outputs": [
    {
     "name": "stdout",
     "output_type": "stream",
     "text": [
      "c157e14d2f2c994b106d670227ab2739 Kay Beauty Matte Lipstick - Award Night Makeup > Lips > Lipstick 0.7151291\n",
      "ce8e085f6e6a0f4153861f8928e204a4 Jaquline USA Matte Stick Velvet Matte Lipstick - Boss Girl Makeup > Lips > Lipstick 0.7269218\n",
      "91b6095937645fb33cc1da6ed38f1b3a Kay Beauty Matte Lipstick - On Screen Makeup > Lips > Lipstick 0.73444396\n",
      "bb6f24059ebc1a764a00815b75deb271 Dermacol Iconic Lips 2-In-1 Lipstick & Lipliner - 1 Makeup > Lips > Lipstick 0.74202996\n",
      "30e44a225f4e6dd2f06749326bc990ff Charlotte Tilbury Lip Cheat - Hot Gossip Makeup > Lips > Lip Liner 0.76888466\n",
      "4432406fa34344aec70a8a89d4e5c640 Kay Beauty Metallic Lip Highlighter - Cover Girl Makeup > Lips > Liquid Lipstick 0.7955445\n",
      "b12108251840bc0bf7cfc81e8282c5a7 Nicka K Matte Lip Color - Liatris Makeup > Lips > Liquid Lipstick 0.80097365\n",
      "b22678e308247f2a60b1c819d094ee85 Lime Crime Velvetines Liquid Matte Lipstick - Lulu Makeup > Lips > Liquid Lipstick 0.8095227\n",
      "4d9a3ff7951c4fea10942ade607e7d38 The Face Shop Club Ryan Velvet Lip Tint - Graceful Rose Makeup > Lips > Liquid Lipstick 0.810935\n",
      "f7f76573099db0058ef5264c35d9d02e Nykaa Wonderpuff Cushion Liquid Lipstick - Werk It Makeup > Lips > Lip Stain 0.8114089\n"
     ]
    }
   ],
   "source": [
    "## code fixed\n",
    "query = \"lipstick\"\n",
    "candidates = faiss_loaded.similarity_search_with_score(query, k=50)\n",
    "\n",
    "category = \"Makeup\"  # broader match\n",
    "\n",
    "filtered = [\n",
    "    (doc, score) for doc, score in candidates\n",
    "    if doc.metadata.get(\"category\", \"\").lower().startswith(category.lower())\n",
    "]\n",
    "\n",
    "top10 = filtered[:10]\n",
    "for doc, score in top10:\n",
    "    print(doc.metadata[\"product_id\"], doc.metadata[\"name\"], doc.metadata[\"category\"], score)\n"
   ]
  },
  {
   "cell_type": "code",
   "execution_count": 26,
   "id": "04838c68",
   "metadata": {},
   "outputs": [],
   "source": [
    "### data in json, name + image url\n",
    "results = [\n",
    "    {\n",
    "        \"name\": doc.metadata.get(\"name\"),\n",
    "        \"category\": doc.metadata.get(\"category\"),\n",
    "        \"image_url\": doc.metadata.get(\"image_url\")\n",
    "    }\n",
    "    for doc, _ in filtered[:10]\n",
    "]\n"
   ]
  },
  {
   "cell_type": "code",
   "execution_count": 27,
   "id": "6750c598",
   "metadata": {},
   "outputs": [],
   "source": [
    "# filtered[:20]"
   ]
  },
  {
   "cell_type": "code",
   "execution_count": 28,
   "id": "ebd8dc7e",
   "metadata": {},
   "outputs": [
    {
     "data": {
      "text/plain": [
       "[{'name': 'Kay Beauty Matte Lipstick - Award Night',\n",
       "  'category': 'Makeup > Lips > Lipstick',\n",
       "  'image_url': 'https://images-static.nykaa.com/media/catalog/product/tr:h-800,w-800,cm-pad_resize/a/w/award-night_2.jpg|https://images-static.nykaa.com/media/catalog/product/tr:h-800,w-800,cm-pad_resize/2/_/2_light_18.jpg|https://images-static.nykaa.com/media/catalog/product/tr:h-800,w-800,cm-pad_resize/3/_/3_medium_18.jpg|https://images-static.nykaa.com/media/catalog/product/tr:h-800,w-800,cm-pad_resize/4/_/4_shade-card_15.jpg|https://images-static.nykaa.com/media/catalog/product/tr:h-800,w-800,cm-pad_resize/o/n/on-screen_4.jpg|https://images-static.nykaa.com/media/catalog/product/tr:h-800,w-800,cm-pad_resize/a/w/award-night_1.jpg|https://images-static.nykaa.com/media/catalog/product/tr:h-800,w-800,cm-pad_resize/7/_/7_all_looks_15.jpg|https://images-static.nykaa.com/media/catalog/product/tr:h-800,w-800,cm-pad_resize/8/_/8_claims_14.jpg|https://images-static.nykaa.com/media/catalog/product/tr:h-800,w-800,cm-pad_resize/a/w/award-night.jpg|https://www.youtube.com/watch?v=AoacBjco4gA'},\n",
       " {'name': 'Jaquline USA Matte Stick Velvet Matte Lipstick - Boss Girl',\n",
       "  'category': 'Makeup > Lips > Lipstick',\n",
       "  'image_url': 'https://images-static.nykaa.com/media/catalog/product/tr:h-800,w-800,cm-pad_resize/8/9/8903196000484_1.jpg|https://images-static.nykaa.com/media/catalog/product/tr:h-800,w-800,cm-pad_resize/8/9/8903196000484_2.jpg|https://images-static.nykaa.com/media/catalog/product/tr:h-800,w-800,cm-pad_resize/8/9/8903196000484_3.jpg'},\n",
       " {'name': 'Kay Beauty Matte Lipstick - On Screen',\n",
       "  'category': 'Makeup > Lips > Lipstick',\n",
       "  'image_url': 'https://images-static.nykaa.com/media/catalog/product/tr:h-800,w-800,cm-pad_resize/o/n/on-screen_3.jpg|https://images-static.nykaa.com/media/catalog/product/tr:h-800,w-800,cm-pad_resize/2/_/2_420_28.jpg|https://images-static.nykaa.com/media/catalog/product/tr:h-800,w-800,cm-pad_resize/3/_/3_407_65.jpg|https://images-static.nykaa.com/media/catalog/product/tr:h-800,w-800,cm-pad_resize/4/_/4_shade-card_11.jpg|https://images-static.nykaa.com/media/catalog/product/tr:h-800,w-800,cm-pad_resize/o/n/on-screen_2.jpg|https://images-static.nykaa.com/media/catalog/product/tr:h-800,w-800,cm-pad_resize/o/n/on-screen_1_2.jpg|https://images-static.nykaa.com/media/catalog/product/tr:h-800,w-800,cm-pad_resize/7/_/7_all_looks_11.jpg|https://images-static.nykaa.com/media/catalog/product/tr:h-800,w-800,cm-pad_resize/8/_/8_claims_10.jpg|https://images-static.nykaa.com/media/catalog/product/tr:h-800,w-800,cm-pad_resize/o/n/on-screen.jpg|https://www.youtube.com/watch?v=AoacBjco4gA'},\n",
       " {'name': 'Dermacol Iconic Lips 2-In-1 Lipstick & Lipliner - 1',\n",
       "  'category': 'Makeup > Lips > Lipstick',\n",
       "  'image_url': 'https://images-static.nykaa.com/media/catalog/product/tr:h-800,w-800,cm-pad_resize/5/3/534704385966413.jpg'},\n",
       " {'name': 'Charlotte Tilbury Lip Cheat - Hot Gossip',\n",
       "  'category': 'Makeup > Lips > Lip Liner',\n",
       "  'image_url': 'https://images-static.nykaa.com/media/catalog/product/tr:h-800,w-800,cm-pad_resize/b/f/bfd3bd75060542720175.jpg|https://images-static.nykaa.com/media/catalog/product/tr:h-800,w-800,cm-pad_resize/b/f/bfd3bd75060542720175_2.jpg|https://images-static.nykaa.com/media/catalog/product/tr:h-800,w-800,cm-pad_resize/5/0/5060542720175.jpeg|https://images-static.nykaa.com/media/catalog/product/tr:h-800,w-800,cm-pad_resize/b/f/bfd3bd75060542720175_3.jpg|https://images-static.nykaa.com/media/catalog/product/tr:h-800,w-800,cm-pad_resize/a/u/authenticity-certificate-ct---nykaa_161.jpg'},\n",
       " {'name': 'Kay Beauty Metallic Lip Highlighter - Cover Girl',\n",
       "  'category': 'Makeup > Lips > Liquid Lipstick',\n",
       "  'image_url': 'https://images-static.nykaa.com/media/catalog/product/tr:h-800,w-800,cm-pad_resize/c/o/cover-girl.jpg|https://images-static.nykaa.com/media/catalog/product/tr:h-800,w-800,cm-pad_resize/2/_/2.product-with-swatchcovergirl.jpg|https://images-static.nykaa.com/media/catalog/product/tr:h-800,w-800,cm-pad_resize/3/_/3.cover-girlcovergirl.jpg|https://images-static.nykaa.com/media/catalog/product/tr:h-800,w-800,cm-pad_resize/k/a/kay_handswatchlip-topper_1.jpg|https://images-static.nykaa.com/media/catalog/product/tr:h-800,w-800,cm-pad_resize/4/_/4.claimsliptoppersame_1.jpg|https://www.youtube.com/watch?v=EUrmKm1gBeE'},\n",
       " {'name': 'Nicka K Matte Lip Color - Liatris',\n",
       "  'category': 'Makeup > Lips > Liquid Lipstick',\n",
       "  'image_url': 'https://images-static.nykaa.com/media/catalog/product/tr:h-800,w-800,cm-pad_resize/6/0/607203013631_1.jpg'},\n",
       " {'name': 'Lime Crime Velvetines Liquid Matte Lipstick - Lulu',\n",
       "  'category': 'Makeup > Lips > Liquid Lipstick',\n",
       "  'image_url': 'https://images-static.nykaa.com/media/catalog/product/tr:h-800,w-800,cm-pad_resize/e/9/e95cc07816652020637.jpg|https://images-static.nykaa.com/media/catalog/product/tr:h-800,w-800,cm-pad_resize/e/9/e95cc07816652020637-2.jpg|https://images-static.nykaa.com/media/catalog/product/tr:h-800,w-800,cm-pad_resize/e/9/e95cc07816652020637-4.jpg|https://images-static.nykaa.com/media/catalog/product/tr:h-800,w-800,cm-pad_resize/e/9/e95cc07816652020637-1.jpg|https://images-static.nykaa.com/media/catalog/product/tr:h-800,w-800,cm-pad_resize/e/9/e95cc07816652020637-3.jpg'},\n",
       " {'name': 'The Face Shop Club Ryan Velvet Lip Tint - Graceful Rose',\n",
       "  'category': 'Makeup > Lips > Liquid Lipstick',\n",
       "  'image_url': 'https://images-static.nykaa.com/media/catalog/product/tr:h-800,w-800,cm-pad_resize/2/6/26f53ad8806182581588__3_.jpg|https://images-static.nykaa.com/media/catalog/product/tr:h-800,w-800,cm-pad_resize/2/6/26f53ad8806182581588__2_.jpg|https://images-static.nykaa.com/media/catalog/product/tr:h-800,w-800,cm-pad_resize/2/6/26f53ad8806182581588__1_.jpg|https://images-static.nykaa.com/media/catalog/product/tr:h-800,w-800,cm-pad_resize/2/6/26f53ad8806182581588__4_.jpg'},\n",
       " {'name': 'Nykaa Wonderpuff Cushion Liquid Lipstick - Werk It',\n",
       "  'category': 'Makeup > Lips > Lip Stain',\n",
       "  'image_url': 'https://images-static.nykaa.com/media/catalog/product/tr:h-800,w-800,cm-pad_resize/8/9/8904245709280_re_n_ima_01_werk-it.jpg|https://images-static.nykaa.com/media/catalog/product/tr:h-800,w-800,cm-pad_resize/8/9/8904245709280_re_n_ima_02_werk-it.jpg|https://images-static.nykaa.com/media/catalog/product/tr:h-800,w-800,cm-pad_resize/8/9/8904245709280_re_n_ima_03_werk-it.jpg|https://images-static.nykaa.com/media/catalog/product/tr:h-800,w-800,cm-pad_resize/8/9/8904245709280_re_n_ima_04_4_reason-to-love_7.jpg|https://images-static.nykaa.com/media/catalog/product/tr:h-800,w-800,cm-pad_resize/8/9/8904245709280_re_n_ima_05_5-hand-swatch_7.jpg|https://images-static.nykaa.com/media/catalog/product/tr:h-800,w-800,cm-pad_resize/8/9/8904245709280_re_n_ima_06_6_shade-chart_wonderpuff-cushion-lipsticks_7.jpg|https://images-static.nykaa.com/media/catalog/product/tr:h-800,w-800,cm-pad_resize/w/e/werk-it.jpg|https://images-static.nykaa.com/media/catalog/product/tr:h-800,w-800,cm-pad_resize/8/9/8904245709280_re_n_ima_08_werk-it.jpg|https://images-static.nykaa.com/media/catalog/product/tr:h-800,w-800,cm-pad_resize/f/0/f0e28d68904245709402_3.jpg|https://www.youtube.com/watch?v=H9KF1Ssod3o'}]"
      ]
     },
     "execution_count": 28,
     "metadata": {},
     "output_type": "execute_result"
    }
   ],
   "source": [
    "results"
   ]
  },
  {
   "cell_type": "code",
   "execution_count": null,
   "id": "eeedcd28",
   "metadata": {},
   "outputs": [],
   "source": []
  }
 ],
 "metadata": {
  "kernelspec": {
   "display_name": "ecom-env",
   "language": "python",
   "name": "python3"
  },
  "language_info": {
   "codemirror_mode": {
    "name": "ipython",
    "version": 3
   },
   "file_extension": ".py",
   "mimetype": "text/x-python",
   "name": "python",
   "nbconvert_exporter": "python",
   "pygments_lexer": "ipython3",
   "version": "3.12.0"
  }
 },
 "nbformat": 4,
 "nbformat_minor": 5
}
