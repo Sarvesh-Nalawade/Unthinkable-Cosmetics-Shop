{
 "cells": [
  {
   "cell_type": "code",
   "execution_count": 1,
   "id": "b13938f0",
   "metadata": {},
   "outputs": [],
   "source": [
    "import pandas as pd\n",
    "from langchain_community.embeddings import HuggingFaceEmbeddings\n",
    "from langchain_community.vectorstores import FAISS"
   ]
  },
  {
   "cell_type": "code",
   "execution_count": 2,
   "id": "ad3ca197",
   "metadata": {},
   "outputs": [],
   "source": [
    "# 2) Load CSV\n",
    "csv_path = \"./dataset/Nykaa_Product_Review_Cleaned.csv\"  # place the file in working dir\n",
    "df = pd.read_csv(csv_path)"
   ]
  },
  {
   "cell_type": "code",
   "execution_count": 3,
   "id": "22674017",
   "metadata": {},
   "outputs": [],
   "source": [
    "import re\n",
    "\n",
    "\n",
    "def safe(x):\n",
    "    return \"\" if pd.isna(x) else str(x)\n",
    "\n",
    "\n",
    "def safe_int(x):\n",
    "    if pd.isna(x):\n",
    "        return 0\n",
    "    s = str(x).strip()\n",
    "    # Check if it's a valid integer or float\n",
    "    if re.fullmatch(r\"[+-]?\\d+(\\.\\d+)?\", s):\n",
    "        return int(float(s))\n",
    "    return 0  # fallback for invalid strings\n",
    "\n",
    "\n",
    "# Build texts\n",
    "texts = (\n",
    "    df[\"Product Name\"].map(safe) + \" | \" +\n",
    "    df[\"Product Category\"].map(safe) + \" | \" +\n",
    "    df[\"Product Brand\"].map(safe) + \" | \" +\n",
    "    df[\"Product Tags\"].map(safe) + \" | \" +\n",
    "    df[\"Product Contents\"].map(safe) + \" | \" +\n",
    "    df[\"Product Description\"].map(safe)\n",
    ").tolist()\n",
    "\n",
    "# Build metadatas (FIXED)\n",
    "metadatas = [\n",
    "    {\n",
    "        \"product_id\": safe(r[\"Product Id\"]),\n",
    "        \"brand_code\": safe(r[\"Product Brand Code\"]),\n",
    "        \"retailer\": safe(r[\"Retailer\"]),\n",
    "        \"category\": safe(r[\"Product Category\"]),\n",
    "        \"brand\": safe(r[\"Product Brand\"]),\n",
    "        \"name\": safe(r[\"Product Name\"]),\n",
    "        \"price\": float(r[\"Product Price\"]) if pd.notna(r[\"Product Price\"]) else 0.0,\n",
    "        \"url\": safe(r[\"Product Url\"]),\n",
    "        \"market\": safe(r[\"Market\"]),\n",
    "        \"currency\": safe(r[\"Product Currency\"]),\n",
    "        \"image_url\": safe(r[\"Product Image Url\"]),\n",
    "        \"tags\": safe(r[\"Product Tags\"]),\n",
    "        \"contents\": safe(r[\"Product Contents\"]),\n",
    "        \"rating\": float(r[\"Product Rating\"]) if pd.notna(r[\"Product Rating\"]) else 0.0,\n",
    "        \"reviews_count\": safe_int(r[\"Product Reviews Count\"]),\n",
    "        \"exp_cat_count\": safe_int(r[\"Expected Category Count\"]),\n",
    "        \"exp_brand_count\": safe_int(r[\"Expected Brand Count\"]),\n",
    "\n",
    "    }\n",
    "    for _, r in df.iterrows()\n",
    "]"
   ]
  },
  {
   "cell_type": "code",
   "execution_count": 4,
   "id": "7b9d2039",
   "metadata": {},
   "outputs": [
    {
     "name": "stderr",
     "output_type": "stream",
     "text": [
      "/var/folders/q6/3j_c7vqx3rsbx645zcp42qqw0000gn/T/ipykernel_33872/3156104087.py:3: LangChainDeprecationWarning: The class `HuggingFaceEmbeddings` was deprecated in LangChain 0.2.2 and will be removed in 1.0. An updated version of the class exists in the :class:`~langchain-huggingface package and should be used instead. To use it run `pip install -U :class:`~langchain-huggingface` and import as `from :class:`~langchain_huggingface import HuggingFaceEmbeddings``.\n",
      "  embeddings = HuggingFaceEmbeddings(model_name=MODEL_NAME)\n",
      "/Users/sarvesh/miniconda3/envs/ecom-env/lib/python3.12/site-packages/tqdm/auto.py:21: TqdmWarning: IProgress not found. Please update jupyter and ipywidgets. See https://ipywidgets.readthedocs.io/en/stable/user_install.html\n",
      "  from .autonotebook import tqdm as notebook_tqdm\n"
     ]
    }
   ],
   "source": [
    "# 4) Embeddings (Sentence-Transformers via HuggingFace)\n",
    "MODEL_NAME = \"sentence-transformers/all-MiniLM-L6-v2\"\n",
    "embeddings = HuggingFaceEmbeddings(model_name=MODEL_NAME)"
   ]
  },
  {
   "cell_type": "code",
   "execution_count": null,
   "id": "9a7abe50",
   "metadata": {},
   "outputs": [],
   "source": [
    "# 5) Create FAISS vector store and persist\n",
    "faiss_store = FAISS.from_texts(texts=texts, embedding=embeddings, metadatas=metadatas)\n",
    "INDEX_DIR = \"faiss_index\"\n",
    "faiss_store.save_local(INDEX_DIR)"
   ]
  },
  {
   "cell_type": "code",
   "execution_count": null,
   "id": "9e145ee5",
   "metadata": {},
   "outputs": [],
   "source": []
  }
 ],
 "metadata": {
  "kernelspec": {
   "display_name": "ecom-env",
   "language": "python",
   "name": "python3"
  },
  "language_info": {
   "codemirror_mode": {
    "name": "ipython",
    "version": 3
   },
   "file_extension": ".py",
   "mimetype": "text/x-python",
   "name": "python",
   "nbconvert_exporter": "python",
   "pygments_lexer": "ipython3",
   "version": "3.12.0"
  }
 },
 "nbformat": 4,
 "nbformat_minor": 5
}
