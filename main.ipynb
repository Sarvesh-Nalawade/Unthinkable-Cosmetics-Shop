{
 "cells": [
  {
   "cell_type": "code",
   "execution_count": null,
   "id": "b13938f0",
   "metadata": {},
   "outputs": [],
   "source": [
    "import pandas as pd\n",
    "from langchain_community.embeddings import HuggingFaceEmbeddings\n",
    "from langchain_community.vectorstores import FAISS"
   ]
  }
 ],
 "metadata": {
  "kernelspec": {
   "display_name": "ecom-env",
   "language": "python",
   "name": "python3"
  },
  "language_info": {
   "name": "python",
   "version": "3.12.0"
  }
 },
 "nbformat": 4,
 "nbformat_minor": 5
}
